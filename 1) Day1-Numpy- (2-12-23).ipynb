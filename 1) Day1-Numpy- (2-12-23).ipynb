{
 "cells": [
  {
   "cell_type": "code",
   "execution_count": 1,
   "id": "3ef058db-e3b7-43e2-a552-a4b00300fb97",
   "metadata": {},
   "outputs": [
    {
     "name": "stdout",
     "output_type": "stream",
     "text": [
      "Numpy\n"
     ]
    }
   ],
   "source": [
    "print('Numpy')"
   ]
  },
  {
   "cell_type": "code",
   "execution_count": 2,
   "id": "5594bf2e-6d61-4a3a-95c0-df515536d27c",
   "metadata": {},
   "outputs": [],
   "source": [
    "# pip install numpy pandas matplotlip scikit-learn openpyxl seaborn"
   ]
  },
  {
   "cell_type": "code",
   "execution_count": 3,
   "id": "ef3177ed-d78c-4dc8-aa43-757788fdcd5e",
   "metadata": {},
   "outputs": [],
   "source": [
    "import numpy as np"
   ]
  },
  {
   "cell_type": "code",
   "execution_count": 4,
   "id": "a6841407-0824-42f1-aefb-98ee803d8828",
   "metadata": {},
   "outputs": [
    {
     "name": "stdout",
     "output_type": "stream",
     "text": [
      "best of luck\n"
     ]
    }
   ],
   "source": [
    "print('best of luck')"
   ]
  },
  {
   "cell_type": "code",
   "execution_count": 5,
   "id": "90c619f7-9245-43a8-ab60-e8a21328ed1e",
   "metadata": {},
   "outputs": [
    {
     "data": {
      "text/plain": [
       "20"
      ]
     },
     "execution_count": 5,
     "metadata": {},
     "output_type": "execute_result"
    }
   ],
   "source": [
    "a = 10\n",
    "b =10\n",
    "c =a+b\n",
    "c"
   ]
  },
  {
   "cell_type": "code",
   "execution_count": 6,
   "id": "adcae78a-c41e-4b47-9e26-f1d0d1ce4993",
   "metadata": {},
   "outputs": [
    {
     "ename": "SyntaxError",
     "evalue": "incomplete input (746503835.py, line 1)",
     "output_type": "error",
     "traceback": [
      "\u001b[1;36m  Cell \u001b[1;32mIn[6], line 1\u001b[1;36m\u001b[0m\n\u001b[1;33m    print('Good Luck'\u001b[0m\n\u001b[1;37m                     ^\u001b[0m\n\u001b[1;31mSyntaxError\u001b[0m\u001b[1;31m:\u001b[0m incomplete input\n"
     ]
    }
   ],
   "source": [
    "print('Good Luck'"
   ]
  },
  {
   "cell_type": "code",
   "execution_count": null,
   "id": "699073d1-1b7b-4ac5-8acf-f989707eec43",
   "metadata": {},
   "outputs": [],
   "source": []
  },
  {
   "cell_type": "markdown",
   "id": "38370105-3405-49d2-a0d1-09d5943e6977",
   "metadata": {},
   "source": [
    "### Numpy\n",
    "\n",
    "* Numerical python -majorely works with array callded ndarray\n",
    "* ndarray -n dimentional array\n",
    "* stastical library comes with many statistical function and packages\n",
    "* Numpy is fast proceesed libarary built with c complier\n",
    "* Q1- why numpy is get less time to execute ? \n",
    "* Every numpy array is alrady complied with c so that it will take less time to execute ## imp Q\n",
    "* Q2- why numpy is deveploed where python already has list data structure?\n",
    "* \n",
    "* Q3 - why indexing start with 0?\n",
    "  \n",
    "* numpy calculation is done with elementwise.\n",
    "*  Default datatype of in numpy is float.\n",
    "*  it can store integer also.\n",
    "\n",
    "  "
   ]
  },
  {
   "cell_type": "code",
   "execution_count": null,
   "id": "976aa2c9-883f-4c07-b999-8343b7b355e7",
   "metadata": {},
   "outputs": [],
   "source": [
    "ls =[1,2,3]\n",
    "array1 = np.array([1,2,3])\n"
   ]
  },
  {
   "cell_type": "code",
   "execution_count": null,
   "id": "d048c5f7-2c75-4253-aee0-855a7825aa96",
   "metadata": {},
   "outputs": [],
   "source": [
    "print(ls*2)\n",
    "print(array1*2) "
   ]
  },
  {
   "cell_type": "markdown",
   "id": "63a5d6ef-1b45-4265-83fb-a78ddd0c1cce",
   "metadata": {},
   "source": [
    "* means  in arrays 2 are multiply with each singgle element of arrays this is explanation numpy calculation is done with elementwise."
   ]
  },
  {
   "cell_type": "code",
   "execution_count": null,
   "id": "9be6354e-bef8-4ea7-8337-d5affb63efed",
   "metadata": {},
   "outputs": [],
   "source": [
    "arr = np.array([1,2,3,4,5])\n",
    "arr"
   ]
  },
  {
   "cell_type": "code",
   "execution_count": null,
   "id": "50a25765-fce2-4c67-8a39-a13644376102",
   "metadata": {},
   "outputs": [],
   "source": [
    "arr[4]"
   ]
  },
  {
   "cell_type": "code",
   "execution_count": null,
   "id": "973e28c3-c9f2-4b6c-b895-95bd78f82f46",
   "metadata": {},
   "outputs": [],
   "source": [
    "ls = [[1,2,3],[1,2,3],[1,2,3]]\n",
    "ls"
   ]
  },
  {
   "cell_type": "code",
   "execution_count": null,
   "id": "85685cc7-652d-47df-b3f5-20f244651c72",
   "metadata": {},
   "outputs": [],
   "source": [
    "arr2 = np.array( [[1,2,3],[1,2,3],[1,2,3]])\n",
    "arr2  # matrix  # 2-D"
   ]
  },
  {
   "cell_type": "code",
   "execution_count": null,
   "id": "8aa2af11-2dfa-42f9-836e-2eddd200cc13",
   "metadata": {},
   "outputs": [],
   "source": [
    "arr2.ndim   # they  are find the dimension of arrays "
   ]
  },
  {
   "cell_type": "code",
   "execution_count": null,
   "id": "3c993db2-4bc5-411c-b9a0-4f728d28a158",
   "metadata": {},
   "outputs": [],
   "source": [
    "arr2.shape # they find the shape of arrays with rows and columns."
   ]
  },
  {
   "cell_type": "code",
   "execution_count": null,
   "id": "08b5834a-bc46-48f9-854e-e077d8d75c4a",
   "metadata": {},
   "outputs": [],
   "source": [
    "arr2.size   # size return the number of element of the arrays."
   ]
  },
  {
   "cell_type": "code",
   "execution_count": null,
   "id": "0413b149-5305-4f96-b8cf-7b828016504c",
   "metadata": {},
   "outputs": [],
   "source": [
    "arr3 = np.arange(5,67,8)  # start stop step\n",
    "arr3"
   ]
  },
  {
   "cell_type": "code",
   "execution_count": null,
   "id": "c835b218-9ff8-4cbc-969e-1dcb545c2495",
   "metadata": {},
   "outputs": [],
   "source": [
    "np.arange(20)   # stop"
   ]
  },
  {
   "cell_type": "code",
   "execution_count": null,
   "id": "8b75563b-acf8-4fce-b799-679ff5aafab1",
   "metadata": {},
   "outputs": [],
   "source": [
    "np.arange(3,10)"
   ]
  },
  {
   "cell_type": "code",
   "execution_count": null,
   "id": "2f1326ec-4d41-4a95-87d5-0b495cbd522d",
   "metadata": {},
   "outputs": [],
   "source": [
    "arr4 = np.arange(1,65)\n",
    "arr4"
   ]
  },
  {
   "cell_type": "code",
   "execution_count": null,
   "id": "2be1a810-d3f6-4c8e-b85e-9d1d09ef07c5",
   "metadata": {},
   "outputs": [],
   "source": [
    "arr4.ndim"
   ]
  },
  {
   "cell_type": "code",
   "execution_count": null,
   "id": "bd5a8925-da48-42ef-9c03-b630905a21fa",
   "metadata": {},
   "outputs": [],
   "source": [
    "arr4.shape"
   ]
  },
  {
   "cell_type": "code",
   "execution_count": null,
   "id": "fb253544-593a-474d-bd60-f59cc21285f2",
   "metadata": {},
   "outputs": [],
   "source": [
    "arr4.size"
   ]
  },
  {
   "cell_type": "code",
   "execution_count": null,
   "id": "5a2ed5de-6ac6-4b1f-8d71-ae49b55e4567",
   "metadata": {},
   "outputs": [],
   "source": [
    "np.array([[1,2,3],[1,2,3]]).shape"
   ]
  },
  {
   "cell_type": "code",
   "execution_count": null,
   "id": "3975ede9-e6a6-4f8c-81c3-f2781371d5f3",
   "metadata": {},
   "outputs": [],
   "source": [
    "b = 4,5,7\n",
    "type(b)"
   ]
  },
  {
   "cell_type": "code",
   "execution_count": null,
   "id": "56525fe1-b2ff-4363-861d-c935556241b2",
   "metadata": {},
   "outputs": [],
   "source": [
    "a = (1)\n",
    "type(a)"
   ]
  },
  {
   "cell_type": "code",
   "execution_count": null,
   "id": "9a9d9407-08e8-4dfe-80a7-a8e6b24a71af",
   "metadata": {},
   "outputs": [],
   "source": [
    "arr4.reshape(2,32) # used to changed the dimension of arrays, while doing it  we can not change the size  of array.\n"
   ]
  },
  {
   "cell_type": "code",
   "execution_count": null,
   "id": "7129f194-2794-4a0c-a47f-e74c8d19c4b8",
   "metadata": {},
   "outputs": [],
   "source": [
    "arr4.reshape(4,16) # 4 rows 16 columns"
   ]
  },
  {
   "cell_type": "code",
   "execution_count": null,
   "id": "0a06735e-311b-4ce0-80ae-de9d227ea4d9",
   "metadata": {},
   "outputs": [],
   "source": [
    "arr4.reshape(16,4) # 16 rows 4 columns"
   ]
  },
  {
   "cell_type": "code",
   "execution_count": null,
   "id": "f3b3e7e3-20a9-413e-85c3-7d33f1a6c042",
   "metadata": {},
   "outputs": [],
   "source": [
    "arr6 =np.arange(1,7)"
   ]
  },
  {
   "cell_type": "code",
   "execution_count": null,
   "id": "b149376e-65db-4c5f-aca4-23401e901ce5",
   "metadata": {},
   "outputs": [],
   "source": [
    "arr6.shape  # 5 colums"
   ]
  },
  {
   "cell_type": "code",
   "execution_count": null,
   "id": "767e2a30-111d-4616-b776-a23f4c267741",
   "metadata": {},
   "outputs": [],
   "source": [
    "arr6.reshape(3,2)"
   ]
  },
  {
   "cell_type": "code",
   "execution_count": null,
   "id": "d81a7a63-1370-4948-8464-7e4b3dc43754",
   "metadata": {},
   "outputs": [],
   "source": [
    "arr6.reshape(2,3)"
   ]
  },
  {
   "cell_type": "code",
   "execution_count": null,
   "id": "8b5fdd4b-da92-448d-a405-edab173a5bea",
   "metadata": {},
   "outputs": [],
   "source": [
    "arr6.reshape(-1,1)"
   ]
  },
  {
   "cell_type": "code",
   "execution_count": null,
   "id": "c4a412c8-b311-4cfe-9adf-f282f7b81e12",
   "metadata": {},
   "outputs": [],
   "source": []
  },
  {
   "cell_type": "code",
   "execution_count": null,
   "id": "3b5e23e4-c15c-4a85-a67a-067d880d710f",
   "metadata": {},
   "outputs": [],
   "source": []
  },
  {
   "cell_type": "code",
   "execution_count": 1,
   "id": "b1f6a1e3-6b6e-4f30-b806-962f239407a0",
   "metadata": {},
   "outputs": [
    {
     "name": "stdout",
     "output_type": "stream",
     "text": [
      "Rani\n"
     ]
    }
   ],
   "source": [
    "print(\"Rani\")"
   ]
  },
  {
   "cell_type": "code",
   "execution_count": 4,
   "id": "755a0b1a-77ce-4666-9149-ad549d698b19",
   "metadata": {},
   "outputs": [],
   "source": [
    "u= 10\n",
    "i = 10\n",
    "#a+b\n"
   ]
  },
  {
   "cell_type": "code",
   "execution_count": 5,
   "id": "36ff2e19-3041-495d-b3d5-5e3596314384",
   "metadata": {},
   "outputs": [
    {
     "data": {
      "text/plain": [
       "20"
      ]
     },
     "execution_count": 5,
     "metadata": {},
     "output_type": "execute_result"
    }
   ],
   "source": [
    "u + i"
   ]
  },
  {
   "cell_type": "code",
   "execution_count": 6,
   "id": "e11754ff-3d0b-4bcc-9463-8af00760cdde",
   "metadata": {},
   "outputs": [
    {
     "data": {
      "text/plain": [
       "0"
      ]
     },
     "execution_count": 6,
     "metadata": {},
     "output_type": "execute_result"
    }
   ],
   "source": [
    "u-i"
   ]
  },
  {
   "cell_type": "code",
   "execution_count": 7,
   "id": "120ce7f3-b951-4eba-ba82-af3522dba753",
   "metadata": {},
   "outputs": [
    {
     "data": {
      "text/plain": [
       "1.0"
      ]
     },
     "execution_count": 7,
     "metadata": {},
     "output_type": "execute_result"
    }
   ],
   "source": [
    "u/i"
   ]
  },
  {
   "cell_type": "code",
   "execution_count": 8,
   "id": "25be4faf-a350-4e96-8d68-51828a4f2f90",
   "metadata": {},
   "outputs": [
    {
     "data": {
      "text/plain": [
       "100"
      ]
     },
     "execution_count": 8,
     "metadata": {},
     "output_type": "execute_result"
    }
   ],
   "source": [
    "u*i"
   ]
  },
  {
   "cell_type": "code",
   "execution_count": 9,
   "id": "6d2bde91-034b-411e-846d-bd5233e2c90f",
   "metadata": {},
   "outputs": [
    {
     "data": {
      "text/plain": [
       "1.0"
      ]
     },
     "execution_count": 9,
     "metadata": {},
     "output_type": "execute_result"
    }
   ],
   "source": [
    "u/i"
   ]
  },
  {
   "cell_type": "code",
   "execution_count": null,
   "id": "748c471c-42b7-4cf3-890d-9ffdb520d2a3",
   "metadata": {},
   "outputs": [],
   "source": [
    "        "
   ]
  }
 ],
 "metadata": {
  "kernelspec": {
   "display_name": "Python 3 (ipykernel)",
   "language": "python",
   "name": "python3"
  },
  "language_info": {
   "codemirror_mode": {
    "name": "ipython",
    "version": 3
   },
   "file_extension": ".py",
   "mimetype": "text/x-python",
   "name": "python",
   "nbconvert_exporter": "python",
   "pygments_lexer": "ipython3",
   "version": "3.12.0"
  }
 },
 "nbformat": 4,
 "nbformat_minor": 5
}

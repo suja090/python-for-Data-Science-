{
 "cells": [
  {
   "cell_type": "code",
   "execution_count": 1,
   "id": "0ee1dfbd-5f6f-4241-af49-9cebc980bed7",
   "metadata": {},
   "outputs": [],
   "source": [
    "import numpy as np"
   ]
  },
  {
   "cell_type": "code",
   "execution_count": 2,
   "id": "72921d47-ec8f-4992-aca6-acb5cd6fda9c",
   "metadata": {},
   "outputs": [
    {
     "data": {
      "text/plain": [
       "array([ 0,  1,  2,  3,  4,  5,  6,  7,  8,  9, 10, 11])"
      ]
     },
     "execution_count": 2,
     "metadata": {},
     "output_type": "execute_result"
    }
   ],
   "source": [
    "arr1 = np.arange(12)\n",
    "arr1"
   ]
  },
  {
   "cell_type": "code",
   "execution_count": 10,
   "id": "004f94d8-69ee-4547-b4dd-543859460aa1",
   "metadata": {},
   "outputs": [],
   "source": [
    "def info_array(a):\n",
    "    print(\"Dimension:\",a.ndim)\n",
    "    print(\"shape:\",a.shape)\n",
    "    print(\"size(number of element):\",a.size)\n",
    "    print(\"Datatype;\",a.dtype)"
   ]
  },
  {
   "cell_type": "code",
   "execution_count": 11,
   "id": "0b4c1986-e4dc-438c-99a9-743f10c5523d",
   "metadata": {},
   "outputs": [
    {
     "name": "stdout",
     "output_type": "stream",
     "text": [
      "Dimension: 1\n",
      "shape: (12,)\n",
      "size(number of element): 12\n",
      "Datatype; int32\n"
     ]
    }
   ],
   "source": [
    "info_array(arr1)"
   ]
  },
  {
   "cell_type": "markdown",
   "id": "d2113f5c-296e-4a78-8df3-f3e526e1f327",
   "metadata": {},
   "source": [
    "### Numpy Notes\n",
    "* arange : to create the range of element -np.arange(start,end.step)\n",
    "* linspace - to create the range of element with number of element this will calculate step size by its own, it will also \n",
    "include start value & end value - np.linspace(start,end,number of element)\n",
    "* 3) reshape -"
   ]
  },
  {
   "cell_type": "code",
   "execution_count": 16,
   "id": "09904aab-19f9-4359-a155-a90cf9c3ef23",
   "metadata": {},
   "outputs": [
    {
     "data": {
      "text/plain": [
       "array([10., 17., 24., 31., 38., 45.])"
      ]
     },
     "execution_count": 16,
     "metadata": {},
     "output_type": "execute_result"
    }
   ],
   "source": [
    "arr3 = np.linspace(10,45,6)\n",
    "arr3"
   ]
  },
  {
   "cell_type": "code",
   "execution_count": 19,
   "id": "105d1756-2dda-4d90-b470-9305a4ae6d38",
   "metadata": {},
   "outputs": [
    {
     "data": {
      "text/plain": [
       "array([1.        , 3.66666667, 6.33333333, 9.        ])"
      ]
     },
     "execution_count": 19,
     "metadata": {},
     "output_type": "execute_result"
    }
   ],
   "source": [
    "arr4 = np.linspace(1,9,4)\n",
    "arr4"
   ]
  },
  {
   "cell_type": "code",
   "execution_count": 20,
   "id": "649765c5-f75f-480e-9593-4e81b135e0dd",
   "metadata": {},
   "outputs": [
    {
     "data": {
      "text/plain": [
       "array([1.        , 1.03225806, 1.06451613, 1.09677419, 1.12903226,\n",
       "       1.16129032, 1.19354839, 1.22580645, 1.25806452, 1.29032258,\n",
       "       1.32258065, 1.35483871, 1.38709677, 1.41935484, 1.4516129 ,\n",
       "       1.48387097, 1.51612903, 1.5483871 , 1.58064516, 1.61290323,\n",
       "       1.64516129, 1.67741935, 1.70967742, 1.74193548, 1.77419355,\n",
       "       1.80645161, 1.83870968, 1.87096774, 1.90322581, 1.93548387,\n",
       "       1.96774194, 2.        , 2.03225806, 2.06451613, 2.09677419,\n",
       "       2.12903226, 2.16129032, 2.19354839, 2.22580645, 2.25806452,\n",
       "       2.29032258, 2.32258065, 2.35483871, 2.38709677, 2.41935484,\n",
       "       2.4516129 , 2.48387097, 2.51612903, 2.5483871 , 2.58064516,\n",
       "       2.61290323, 2.64516129, 2.67741935, 2.70967742, 2.74193548,\n",
       "       2.77419355, 2.80645161, 2.83870968, 2.87096774, 2.90322581,\n",
       "       2.93548387, 2.96774194, 3.        , 3.03225806, 3.06451613,\n",
       "       3.09677419, 3.12903226, 3.16129032, 3.19354839, 3.22580645,\n",
       "       3.25806452, 3.29032258, 3.32258065, 3.35483871, 3.38709677,\n",
       "       3.41935484, 3.4516129 , 3.48387097, 3.51612903, 3.5483871 ,\n",
       "       3.58064516, 3.61290323, 3.64516129, 3.67741935, 3.70967742,\n",
       "       3.74193548, 3.77419355, 3.80645161, 3.83870968, 3.87096774,\n",
       "       3.90322581, 3.93548387, 3.96774194, 4.        , 4.03225806,\n",
       "       4.06451613, 4.09677419, 4.12903226, 4.16129032, 4.19354839,\n",
       "       4.22580645, 4.25806452, 4.29032258, 4.32258065, 4.35483871,\n",
       "       4.38709677, 4.41935484, 4.4516129 , 4.48387097, 4.51612903,\n",
       "       4.5483871 , 4.58064516, 4.61290323, 4.64516129, 4.67741935,\n",
       "       4.70967742, 4.74193548, 4.77419355, 4.80645161, 4.83870968,\n",
       "       4.87096774, 4.90322581, 4.93548387, 4.96774194, 5.        ])"
      ]
     },
     "execution_count": 20,
     "metadata": {},
     "output_type": "execute_result"
    }
   ],
   "source": [
    "arr5 = np.linspace(1,5,125)\n",
    "arr5"
   ]
  },
  {
   "cell_type": "code",
   "execution_count": 21,
   "id": "7bb89bc2-1e2b-4443-b15d-4afaad1b5c86",
   "metadata": {},
   "outputs": [
    {
     "name": "stdout",
     "output_type": "stream",
     "text": [
      "Dimension: 1\n",
      "shape: (125,)\n",
      "size(number of element): 125\n",
      "Datatype; float64\n"
     ]
    }
   ],
   "source": [
    "info_array(arr5)"
   ]
  },
  {
   "cell_type": "code",
   "execution_count": 27,
   "id": "d241a5da-8d75-4f10-9b6d-778e50cceac5",
   "metadata": {},
   "outputs": [
    {
     "data": {
      "text/plain": [
       "array([ 1,  2,  3,  4,  5,  6,  7,  8,  9, 10, 11, 12, 13, 14, 15, 16, 17,\n",
       "       18, 19, 20, 21, 22, 23, 24])"
      ]
     },
     "execution_count": 27,
     "metadata": {},
     "output_type": "execute_result"
    }
   ],
   "source": [
    "arr6 = np.linspace(1,24,24 ,dtype ='int')\n",
    "arr6"
   ]
  },
  {
   "cell_type": "code",
   "execution_count": 28,
   "id": "29167228-df28-437e-afcc-cdf744dac164",
   "metadata": {},
   "outputs": [
    {
     "data": {
      "text/plain": [
       "(24,)"
      ]
     },
     "execution_count": 28,
     "metadata": {},
     "output_type": "execute_result"
    }
   ],
   "source": [
    "arr6.shape"
   ]
  },
  {
   "cell_type": "code",
   "execution_count": 29,
   "id": "80982b6d-1190-4e1d-82cb-b986866ba286",
   "metadata": {},
   "outputs": [
    {
     "data": {
      "text/plain": [
       "array([[ 1,  2,  3,  4,  5,  6],\n",
       "       [ 7,  8,  9, 10, 11, 12],\n",
       "       [13, 14, 15, 16, 17, 18],\n",
       "       [19, 20, 21, 22, 23, 24]])"
      ]
     },
     "execution_count": 29,
     "metadata": {},
     "output_type": "execute_result"
    }
   ],
   "source": [
    "arr6.reshape(4,6)   # this operation are not save in this operation only see the output."
   ]
  },
  {
   "cell_type": "code",
   "execution_count": 30,
   "id": "85d61644-8842-4ac2-8f46-671cf704d8bd",
   "metadata": {},
   "outputs": [
    {
     "data": {
      "text/plain": [
       "(24,)"
      ]
     },
     "execution_count": 30,
     "metadata": {},
     "output_type": "execute_result"
    }
   ],
   "source": [
    "arr6.shape"
   ]
  },
  {
   "cell_type": "code",
   "execution_count": 31,
   "id": "a3534c87-9f4d-467c-8ca8-3911639d8524",
   "metadata": {},
   "outputs": [],
   "source": [
    "# assignement : reshape above array\n",
    "\n"
   ]
  },
  {
   "cell_type": "code",
   "execution_count": 36,
   "id": "7f0ab4cc-c795-4a95-a820-46439909177c",
   "metadata": {},
   "outputs": [
    {
     "data": {
      "text/plain": [
       "array([[[ 1,  2],\n",
       "        [ 3,  4],\n",
       "        [ 5,  6],\n",
       "        [ 7,  8]],\n",
       "\n",
       "       [[ 9, 10],\n",
       "        [11, 12],\n",
       "        [13, 14],\n",
       "        [15, 16]],\n",
       "\n",
       "       [[17, 18],\n",
       "        [19, 20],\n",
       "        [21, 22],\n",
       "        [23, 24]]])"
      ]
     },
     "execution_count": 36,
     "metadata": {},
     "output_type": "execute_result"
    }
   ],
   "source": [
    "arr6.reshape(3,4,2)\n"
   ]
  },
  {
   "cell_type": "markdown",
   "id": "ce044f3f-ba8b-46f2-b971-b263f0fc7086",
   "metadata": {},
   "source": [
    "##### Convert 2D to 1D"
   ]
  },
  {
   "cell_type": "code",
   "execution_count": 37,
   "id": "91dec69d-f14f-45f8-a22c-798798b429e2",
   "metadata": {},
   "outputs": [
    {
     "data": {
      "text/plain": [
       "array([[ 1,  2,  3,  4],\n",
       "       [ 5,  6,  7,  8],\n",
       "       [ 9, 10, 11, 12],\n",
       "       [13, 14, 15, 16],\n",
       "       [17, 18, 19, 20],\n",
       "       [21, 22, 23, 24]])"
      ]
     },
     "execution_count": 37,
     "metadata": {},
     "output_type": "execute_result"
    }
   ],
   "source": [
    "arr6 = arr6.reshape(6,4)\n",
    "arr6"
   ]
  },
  {
   "cell_type": "code",
   "execution_count": 38,
   "id": "fb114bdd-5f2c-44fd-80c9-29f81686bbb2",
   "metadata": {},
   "outputs": [
    {
     "data": {
      "text/plain": [
       "array([ 1,  2,  3,  4,  5,  6,  7,  8,  9, 10, 11, 12, 13, 14, 15, 16, 17,\n",
       "       18, 19, 20, 21, 22, 23, 24])"
      ]
     },
     "execution_count": 38,
     "metadata": {},
     "output_type": "execute_result"
    }
   ],
   "source": [
    "arr6.ravel('C') #  c programmong ## convert 2 D to 1D - row basis"
   ]
  },
  {
   "cell_type": "code",
   "execution_count": 39,
   "id": "8b95903d-647c-43ab-b890-f6a605603176",
   "metadata": {},
   "outputs": [
    {
     "data": {
      "text/plain": [
       "array([ 1,  5,  9, 13, 17, 21,  2,  6, 10, 14, 18, 22,  3,  7, 11, 15, 19,\n",
       "       23,  4,  8, 12, 16, 20, 24])"
      ]
     },
     "execution_count": 39,
     "metadata": {},
     "output_type": "execute_result"
    }
   ],
   "source": [
    "arr6.ravel(\"F\")  # FORTRON 77 programing - column basis  - 2D to 1D"
   ]
  },
  {
   "cell_type": "markdown",
   "id": "e8161791-b83a-4b4d-a9c1-647cdb7e2859",
   "metadata": {},
   "source": [
    "#### resize : change the size of array "
   ]
  },
  {
   "cell_type": "code",
   "execution_count": 40,
   "id": "354668f6-7e1e-47e8-aba6-d5ad8d1c820f",
   "metadata": {},
   "outputs": [
    {
     "data": {
      "text/plain": [
       "array([[ 1,  2,  3,  4],\n",
       "       [ 5,  6,  7,  8],\n",
       "       [ 9, 10, 11, 12],\n",
       "       [13, 14, 15, 16],\n",
       "       [17, 18, 19, 20],\n",
       "       [21, 22, 23, 24]])"
      ]
     },
     "execution_count": 40,
     "metadata": {},
     "output_type": "execute_result"
    }
   ],
   "source": [
    "arr6"
   ]
  },
  {
   "cell_type": "code",
   "execution_count": 41,
   "id": "2111131a-f347-452e-8982-03dcef0ae266",
   "metadata": {},
   "outputs": [
    {
     "data": {
      "text/plain": [
       "array([[ 1,  2,  3,  4,  5,  6,  7,  8],\n",
       "       [ 9, 10, 11, 12, 13, 14, 15, 16],\n",
       "       [17, 18, 19, 20, 21, 22, 23, 24]])"
      ]
     },
     "execution_count": 41,
     "metadata": {},
     "output_type": "execute_result"
    }
   ],
   "source": [
    "arr6.resize(3,8)\n",
    "arr6"
   ]
  },
  {
   "cell_type": "code",
   "execution_count": 42,
   "id": "5bd56933-e5a8-4cd4-bb48-41d1984e111e",
   "metadata": {
    "scrolled": true
   },
   "outputs": [
    {
     "data": {
      "text/plain": [
       "array([[ 1,  2,  3,  4,  5],\n",
       "       [ 6,  7,  8,  9, 10],\n",
       "       [11, 12, 13, 14, 15],\n",
       "       [16, 17, 18, 19, 20],\n",
       "       [21, 22, 23, 24,  1],\n",
       "       [ 2,  3,  4,  5,  6],\n",
       "       [ 7,  8,  9, 10, 11]])"
      ]
     },
     "execution_count": 42,
     "metadata": {},
     "output_type": "execute_result"
    }
   ],
   "source": [
    "np.resize(arr6,(7,5)) # resize the element with any size or differnt range."
   ]
  },
  {
   "cell_type": "markdown",
   "id": "58730c6a-3d7e-4464-8221-617860d92fa8",
   "metadata": {},
   "source": [
    "### Concatenate -"
   ]
  },
  {
   "cell_type": "code",
   "execution_count": 43,
   "id": "4254f459-c1bc-4be4-adaf-4f2f73a7e898",
   "metadata": {},
   "outputs": [
    {
     "data": {
      "text/plain": [
       "array([[1, 2, 3],\n",
       "       [4, 5, 6]])"
      ]
     },
     "execution_count": 43,
     "metadata": {},
     "output_type": "execute_result"
    }
   ],
   "source": [
    "arr8 = np.arange(1,7).reshape(2,3)\n",
    "arr8"
   ]
  },
  {
   "cell_type": "code",
   "execution_count": 44,
   "id": "bfc3aa53-7363-46ab-907b-70b95859e63e",
   "metadata": {},
   "outputs": [
    {
     "data": {
      "text/plain": [
       "array([[ 7,  8,  9],\n",
       "       [10, 11, 12]])"
      ]
     },
     "execution_count": 44,
     "metadata": {},
     "output_type": "execute_result"
    }
   ],
   "source": [
    "arr9 = np.arange(7,13).reshape(2,3)\n",
    "arr9"
   ]
  },
  {
   "cell_type": "code",
   "execution_count": 45,
   "id": "f389b170-2fd2-428a-8e44-9a5d80ae4b3f",
   "metadata": {},
   "outputs": [
    {
     "data": {
      "text/plain": [
       "array([[ 1,  2,  3],\n",
       "       [ 4,  5,  6],\n",
       "       [ 7,  8,  9],\n",
       "       [10, 11, 12]])"
      ]
     },
     "execution_count": 45,
     "metadata": {},
     "output_type": "execute_result"
    }
   ],
   "source": [
    "np.concatenate([arr8,arr9]) # by default row wise - axis =0"
   ]
  },
  {
   "cell_type": "code",
   "execution_count": 46,
   "id": "1dae1ee0-1327-47a5-aaa6-65760f4ee847",
   "metadata": {},
   "outputs": [
    {
     "data": {
      "text/plain": [
       "array([[ 1,  2,  3,  7,  8,  9],\n",
       "       [ 4,  5,  6, 10, 11, 12]])"
      ]
     },
     "execution_count": 46,
     "metadata": {},
     "output_type": "execute_result"
    }
   ],
   "source": [
    "np.concatenate([arr8,arr9],axis =1)   # column wise\n"
   ]
  },
  {
   "cell_type": "code",
   "execution_count": 47,
   "id": "8cb59e74-d2de-416b-bbae-044bba68c6e2",
   "metadata": {},
   "outputs": [
    {
     "data": {
      "text/plain": [
       "array([[13, 14],\n",
       "       [15, 16],\n",
       "       [17, 18]])"
      ]
     },
     "execution_count": 47,
     "metadata": {},
     "output_type": "execute_result"
    }
   ],
   "source": [
    "arr10 = np.arange(13,19).reshape(3,2)\n",
    "arr10"
   ]
  },
  {
   "cell_type": "code",
   "execution_count": 50,
   "id": "9643683b-38d4-4f9a-99c6-446adb07c2d9",
   "metadata": {},
   "outputs": [],
   "source": [
    "#np.concatenate([arr8,arr10])  # we have same dimension arrays to join"
   ]
  },
  {
   "cell_type": "code",
   "execution_count": 51,
   "id": "bc269b1a-84be-4a7a-aac9-52ab2c377404",
   "metadata": {},
   "outputs": [],
   "source": [
    "#np.concatenate([arr8,arr10],axis =1)"
   ]
  },
  {
   "cell_type": "markdown",
   "id": "cedf3034-31d8-4dcb-a399-907912369e70",
   "metadata": {},
   "source": [
    "#### hstack : Horizontal stack - column join\n",
    "* used to stack the array"
   ]
  },
  {
   "cell_type": "code",
   "execution_count": 52,
   "id": "a55ba1ea-9ff0-443e-9821-e552248009c9",
   "metadata": {},
   "outputs": [
    {
     "data": {
      "text/plain": [
       "array([[ 1,  2,  3,  7,  8,  9],\n",
       "       [ 4,  5,  6, 10, 11, 12]])"
      ]
     },
     "execution_count": 52,
     "metadata": {},
     "output_type": "execute_result"
    }
   ],
   "source": [
    "np.hstack([arr8,arr9])"
   ]
  },
  {
   "cell_type": "markdown",
   "id": "9f82e8e2-4f10-40ec-8de2-e84ba7de1b60",
   "metadata": {},
   "source": [
    "#### vstack - verstical array - row join"
   ]
  },
  {
   "cell_type": "code",
   "execution_count": 53,
   "id": "9810eed2-9feb-482e-af4d-4aaa92c18c4d",
   "metadata": {},
   "outputs": [
    {
     "data": {
      "text/plain": [
       "array([[ 1,  2,  3],\n",
       "       [ 4,  5,  6],\n",
       "       [ 7,  8,  9],\n",
       "       [10, 11, 12]])"
      ]
     },
     "execution_count": 53,
     "metadata": {},
     "output_type": "execute_result"
    }
   ],
   "source": [
    "np.vstack([arr8,arr9])"
   ]
  },
  {
   "cell_type": "markdown",
   "id": "ab0c4583-1e09-427b-a664-26227e880c87",
   "metadata": {},
   "source": [
    "#### repeat -\n"
   ]
  },
  {
   "cell_type": "code",
   "execution_count": 55,
   "id": "0222117d-ca0a-40cf-9be4-5035282dd7ff",
   "metadata": {},
   "outputs": [
    {
     "data": {
      "text/plain": [
       "array([0, 1, 2])"
      ]
     },
     "execution_count": 55,
     "metadata": {},
     "output_type": "execute_result"
    }
   ],
   "source": [
    "arr11 = np.arange(3)\n",
    "arr11"
   ]
  },
  {
   "cell_type": "code",
   "execution_count": 56,
   "id": "57406560-f45b-4573-bf18-51f2e2c0c596",
   "metadata": {},
   "outputs": [
    {
     "data": {
      "text/plain": [
       "array([0, 0, 0, 1, 1, 1, 2, 2, 2])"
      ]
     },
     "execution_count": 56,
     "metadata": {},
     "output_type": "execute_result"
    }
   ],
   "source": [
    "arr11.repeat(3)"
   ]
  },
  {
   "cell_type": "code",
   "execution_count": 57,
   "id": "06fe0460-3e3c-4e55-b270-e10a600c323a",
   "metadata": {},
   "outputs": [
    {
     "data": {
      "text/plain": [
       "array([0, 0, 0, 0, 0, 0, 0, 0, 0, 0, 0, 0, 0, 0, 0, 0, 0, 0, 0, 0, 0, 0,\n",
       "       0, 1, 1, 1, 1, 1, 1, 1, 1, 1, 1, 1, 1, 1, 1, 1, 1, 1, 1, 1, 1, 1,\n",
       "       1, 1, 2, 2, 2, 2, 2, 2, 2, 2, 2, 2, 2, 2, 2, 2, 2, 2, 2, 2, 2, 2,\n",
       "       2, 2, 2])"
      ]
     },
     "execution_count": 57,
     "metadata": {},
     "output_type": "execute_result"
    }
   ],
   "source": [
    "arr11.repeat(23)"
   ]
  },
  {
   "cell_type": "code",
   "execution_count": 59,
   "id": "bdf12e93-4318-43b5-8492-3b86f9464efd",
   "metadata": {},
   "outputs": [
    {
     "data": {
      "text/plain": [
       "array([0, 0, 0, 1, 1, 1, 1, 1, 1, 1, 1, 1, 1, 1, 1, 1, 1, 1, 2, 2, 2, 2,\n",
       "       2, 2, 2, 2, 2, 2, 2])"
      ]
     },
     "execution_count": 59,
     "metadata": {},
     "output_type": "execute_result"
    }
   ],
   "source": [
    "arr11.repeat([3,15,11]) # 0-3,1-15,2-11"
   ]
  },
  {
   "cell_type": "markdown",
   "id": "3d5b844a-0593-4cf0-9e0d-07e4f607ba42",
   "metadata": {},
   "source": [
    "####  Identity matrix -np.eye()"
   ]
  },
  {
   "cell_type": "code",
   "execution_count": 60,
   "id": "ececaa66-58f1-4329-b866-dce155016c08",
   "metadata": {},
   "outputs": [
    {
     "data": {
      "text/plain": [
       "array([[1., 0., 0., 0., 0., 0., 0.],\n",
       "       [0., 1., 0., 0., 0., 0., 0.],\n",
       "       [0., 0., 1., 0., 0., 0., 0.]])"
      ]
     },
     "execution_count": 60,
     "metadata": {},
     "output_type": "execute_result"
    }
   ],
   "source": [
    "np.eye(3,7)"
   ]
  },
  {
   "cell_type": "code",
   "execution_count": 61,
   "id": "78523bb4-a0e8-43fa-a763-e5cce99631c8",
   "metadata": {},
   "outputs": [
    {
     "data": {
      "text/plain": [
       "array([[0., 0., 0., 0., 1., 0., 0.],\n",
       "       [0., 0., 0., 0., 0., 1., 0.],\n",
       "       [0., 0., 0., 0., 0., 0., 1.]])"
      ]
     },
     "execution_count": 61,
     "metadata": {},
     "output_type": "execute_result"
    }
   ],
   "source": [
    "np.eye(3,7,4)"
   ]
  },
  {
   "cell_type": "code",
   "execution_count": 62,
   "id": "24af834b-22f9-40e1-b536-bc328b37e01d",
   "metadata": {},
   "outputs": [
    {
     "data": {
      "text/plain": [
       "array([[1., 1., 1., 1.],\n",
       "       [1., 1., 1., 1.],\n",
       "       [1., 1., 1., 1.]])"
      ]
     },
     "execution_count": 62,
     "metadata": {},
     "output_type": "execute_result"
    }
   ],
   "source": [
    "np.ones((3,4))"
   ]
  },
  {
   "cell_type": "code",
   "execution_count": 65,
   "id": "2ddcf39d-1b7c-4311-b27b-010840265697",
   "metadata": {},
   "outputs": [
    {
     "data": {
      "text/plain": [
       "array([[0., 0., 0., 0., 0., 0.],\n",
       "       [0., 0., 0., 0., 0., 0.],\n",
       "       [0., 0., 0., 0., 0., 0.]])"
      ]
     },
     "execution_count": 65,
     "metadata": {},
     "output_type": "execute_result"
    }
   ],
   "source": [
    "np.zeros((3,6))"
   ]
  },
  {
   "cell_type": "markdown",
   "id": "f85c509d-6a29-4925-af0b-e691983bf31b",
   "metadata": {},
   "source": [
    "## split  -\n",
    " * split function is used to split the numpy array into multiple arrays"
   ]
  },
  {
   "cell_type": "code",
   "execution_count": 66,
   "id": "809509dd-8b06-4a02-9068-e9350b5aa519",
   "metadata": {},
   "outputs": [
    {
     "data": {
      "text/plain": [
       "array([[ 1,  2,  3,  4,  5,  6,  7,  8],\n",
       "       [ 9, 10, 11, 12, 13, 14, 15, 16],\n",
       "       [17, 18, 19, 20, 21, 22, 23, 24]])"
      ]
     },
     "execution_count": 66,
     "metadata": {},
     "output_type": "execute_result"
    }
   ],
   "source": [
    "arr6 "
   ]
  },
  {
   "cell_type": "code",
   "execution_count": 67,
   "id": "f3bdeb40-7744-4adf-98ec-86a3c39c223f",
   "metadata": {},
   "outputs": [
    {
     "data": {
      "text/plain": [
       "[array([[1, 2, 3, 4, 5, 6, 7, 8]]),\n",
       " array([[ 9, 10, 11, 12, 13, 14, 15, 16]]),\n",
       " array([[17, 18, 19, 20, 21, 22, 23, 24]])]"
      ]
     },
     "execution_count": 67,
     "metadata": {},
     "output_type": "execute_result"
    }
   ],
   "source": [
    "np.split(arr6,(1,2))"
   ]
  },
  {
   "cell_type": "code",
   "execution_count": 71,
   "id": "405e65b4-2429-4bdf-9291-5240865fc944",
   "metadata": {},
   "outputs": [
    {
     "data": {
      "text/plain": [
       "array([[  1,   2,   3,   4,   5,   6,   7,   8,   9,  10],\n",
       "       [ 11,  12,  13,  14,  15,  16,  17,  18,  19,  20],\n",
       "       [ 21,  22,  23,  24,  25,  26,  27,  28,  29,  30],\n",
       "       [ 31,  32,  33,  34,  35,  36,  37,  38,  39,  40],\n",
       "       [ 41,  42,  43,  44,  45,  46,  47,  48,  49,  50],\n",
       "       [ 51,  52,  53,  54,  55,  56,  57,  58,  59,  60],\n",
       "       [ 61,  62,  63,  64,  65,  66,  67,  68,  69,  70],\n",
       "       [ 71,  72,  73,  74,  75,  76,  77,  78,  79,  80],\n",
       "       [ 81,  82,  83,  84,  85,  86,  87,  88,  89,  90],\n",
       "       [ 91,  92,  93,  94,  95,  96,  97,  98,  99, 100]])"
      ]
     },
     "execution_count": 71,
     "metadata": {},
     "output_type": "execute_result"
    }
   ],
   "source": [
    "arr12 = np.linspace(1,100,100, dtype =\"int\").reshape(10,10)\n",
    "arr12"
   ]
  },
  {
   "cell_type": "code",
   "execution_count": 73,
   "id": "0f28ad25-d7fd-4ef0-8c87-a09c4759f2d5",
   "metadata": {},
   "outputs": [
    {
     "data": {
      "text/plain": [
       "[array([[ 1,  2,  3,  4,  5,  6,  7,  8,  9, 10],\n",
       "        [11, 12, 13, 14, 15, 16, 17, 18, 19, 20],\n",
       "        [21, 22, 23, 24, 25, 26, 27, 28, 29, 30]]),\n",
       " array([[31, 32, 33, 34, 35, 36, 37, 38, 39, 40],\n",
       "        [41, 42, 43, 44, 45, 46, 47, 48, 49, 50],\n",
       "        [51, 52, 53, 54, 55, 56, 57, 58, 59, 60]]),\n",
       " array([[ 61,  62,  63,  64,  65,  66,  67,  68,  69,  70],\n",
       "        [ 71,  72,  73,  74,  75,  76,  77,  78,  79,  80],\n",
       "        [ 81,  82,  83,  84,  85,  86,  87,  88,  89,  90],\n",
       "        [ 91,  92,  93,  94,  95,  96,  97,  98,  99, 100]])]"
      ]
     },
     "execution_count": 73,
     "metadata": {},
     "output_type": "execute_result"
    }
   ],
   "source": [
    "np.split(arr12,(3,6))"
   ]
  },
  {
   "cell_type": "code",
   "execution_count": 76,
   "id": "1a46378e-aaaf-4a0b-8405-d389b57aa7f4",
   "metadata": {},
   "outputs": [
    {
     "data": {
      "text/plain": [
       "[array([[ 1,  2,  3,  4,  5,  6,  7,  8,  9, 10],\n",
       "        [11, 12, 13, 14, 15, 16, 17, 18, 19, 20]]),\n",
       " array([[21, 22, 23, 24, 25, 26, 27, 28, 29, 30],\n",
       "        [31, 32, 33, 34, 35, 36, 37, 38, 39, 40]]),\n",
       " array([[41, 42, 43, 44, 45, 46, 47, 48, 49, 50],\n",
       "        [51, 52, 53, 54, 55, 56, 57, 58, 59, 60]]),\n",
       " array([[61, 62, 63, 64, 65, 66, 67, 68, 69, 70],\n",
       "        [71, 72, 73, 74, 75, 76, 77, 78, 79, 80]]),\n",
       " array([[ 81,  82,  83,  84,  85,  86,  87,  88,  89,  90],\n",
       "        [ 91,  92,  93,  94,  95,  96,  97,  98,  99, 100]])]"
      ]
     },
     "execution_count": 76,
     "metadata": {},
     "output_type": "execute_result"
    }
   ],
   "source": [
    "np.split(arr12,[2,4,6,8])"
   ]
  },
  {
   "cell_type": "code",
   "execution_count": 77,
   "id": "ff3c8ff7-e29c-434f-a4aa-2cf4c8aae6fd",
   "metadata": {},
   "outputs": [
    {
     "data": {
      "text/plain": [
       "[array([[ 1,  2],\n",
       "        [11, 12],\n",
       "        [21, 22],\n",
       "        [31, 32],\n",
       "        [41, 42],\n",
       "        [51, 52],\n",
       "        [61, 62],\n",
       "        [71, 72],\n",
       "        [81, 82],\n",
       "        [91, 92]]),\n",
       " array([[ 3,  4],\n",
       "        [13, 14],\n",
       "        [23, 24],\n",
       "        [33, 34],\n",
       "        [43, 44],\n",
       "        [53, 54],\n",
       "        [63, 64],\n",
       "        [73, 74],\n",
       "        [83, 84],\n",
       "        [93, 94]]),\n",
       " array([[ 5,  6],\n",
       "        [15, 16],\n",
       "        [25, 26],\n",
       "        [35, 36],\n",
       "        [45, 46],\n",
       "        [55, 56],\n",
       "        [65, 66],\n",
       "        [75, 76],\n",
       "        [85, 86],\n",
       "        [95, 96]]),\n",
       " array([[ 7,  8],\n",
       "        [17, 18],\n",
       "        [27, 28],\n",
       "        [37, 38],\n",
       "        [47, 48],\n",
       "        [57, 58],\n",
       "        [67, 68],\n",
       "        [77, 78],\n",
       "        [87, 88],\n",
       "        [97, 98]]),\n",
       " array([[  9,  10],\n",
       "        [ 19,  20],\n",
       "        [ 29,  30],\n",
       "        [ 39,  40],\n",
       "        [ 49,  50],\n",
       "        [ 59,  60],\n",
       "        [ 69,  70],\n",
       "        [ 79,  80],\n",
       "        [ 89,  90],\n",
       "        [ 99, 100]])]"
      ]
     },
     "execution_count": 77,
     "metadata": {},
     "output_type": "execute_result"
    }
   ],
   "source": [
    "np.split(arr12,[2,4,6,8], axis =1)"
   ]
  },
  {
   "cell_type": "code",
   "execution_count": 80,
   "id": "cb738a75-596d-4d69-9fb5-7c8497770dfb",
   "metadata": {},
   "outputs": [],
   "source": [
    "sp1, sp2, sp3 = np.split(arr12,[4,7],axis =1)"
   ]
  },
  {
   "cell_type": "code",
   "execution_count": 81,
   "id": "308e68df-d1d5-4915-9cdf-889aa37ba829",
   "metadata": {},
   "outputs": [
    {
     "data": {
      "text/plain": [
       "array([[ 1,  2,  3,  4],\n",
       "       [11, 12, 13, 14],\n",
       "       [21, 22, 23, 24],\n",
       "       [31, 32, 33, 34],\n",
       "       [41, 42, 43, 44],\n",
       "       [51, 52, 53, 54],\n",
       "       [61, 62, 63, 64],\n",
       "       [71, 72, 73, 74],\n",
       "       [81, 82, 83, 84],\n",
       "       [91, 92, 93, 94]])"
      ]
     },
     "execution_count": 81,
     "metadata": {},
     "output_type": "execute_result"
    }
   ],
   "source": [
    "sp1"
   ]
  },
  {
   "cell_type": "code",
   "execution_count": 82,
   "id": "213f76d6-7e2b-4363-80ef-3ee58568e536",
   "metadata": {},
   "outputs": [
    {
     "data": {
      "text/plain": [
       "array([[ 5,  6,  7],\n",
       "       [15, 16, 17],\n",
       "       [25, 26, 27],\n",
       "       [35, 36, 37],\n",
       "       [45, 46, 47],\n",
       "       [55, 56, 57],\n",
       "       [65, 66, 67],\n",
       "       [75, 76, 77],\n",
       "       [85, 86, 87],\n",
       "       [95, 96, 97]])"
      ]
     },
     "execution_count": 82,
     "metadata": {},
     "output_type": "execute_result"
    }
   ],
   "source": [
    "sp2"
   ]
  },
  {
   "cell_type": "code",
   "execution_count": 83,
   "id": "e645c64e-8d4d-422a-bfa7-a48f39a24550",
   "metadata": {},
   "outputs": [
    {
     "data": {
      "text/plain": [
       "array([[  8,   9,  10],\n",
       "       [ 18,  19,  20],\n",
       "       [ 28,  29,  30],\n",
       "       [ 38,  39,  40],\n",
       "       [ 48,  49,  50],\n",
       "       [ 58,  59,  60],\n",
       "       [ 68,  69,  70],\n",
       "       [ 78,  79,  80],\n",
       "       [ 88,  89,  90],\n",
       "       [ 98,  99, 100]])"
      ]
     },
     "execution_count": 83,
     "metadata": {},
     "output_type": "execute_result"
    }
   ],
   "source": [
    "sp3"
   ]
  },
  {
   "cell_type": "code",
   "execution_count": null,
   "id": "61071262-ec7d-4bc6-993e-062582f47ab5",
   "metadata": {},
   "outputs": [],
   "source": []
  }
 ],
 "metadata": {
  "kernelspec": {
   "display_name": "Python 3 (ipykernel)",
   "language": "python",
   "name": "python3"
  },
  "language_info": {
   "codemirror_mode": {
    "name": "ipython",
    "version": 3
   },
   "file_extension": ".py",
   "mimetype": "text/x-python",
   "name": "python",
   "nbconvert_exporter": "python",
   "pygments_lexer": "ipython3",
   "version": "3.12.0"
  }
 },
 "nbformat": 4,
 "nbformat_minor": 5
}
